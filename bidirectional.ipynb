{
 "cells": [
  {
   "cell_type": "markdown",
   "metadata": {},
   "source": [
    "# Bidirectional LSTM \n",
    "## CS 230 / Joe Sommer / Dec 1 2019\n",
    "\n",
    "This script is for implementing the Bidirectional LSTM to classify lyrics. \n"
   ]
  },
  {
   "cell_type": "code",
   "execution_count": 1,
   "metadata": {},
   "outputs": [],
   "source": [
    "\n",
    "import numpy as np # linear algebra\n",
    "import pandas as pd # data processing, CSV file I/O (e.g. pd.read_csv)\n",
    "import matplotlib.pyplot as plt\n",
    "plt.style.use('ggplot')\n",
    "\n",
    "from sklearn.feature_extraction.text import CountVectorizer\n",
    "from sklearn.model_selection import train_test_split\n",
    "from sklearn.linear_model import LogisticRegression\n",
    "from sklearn.preprocessing import LabelEncoder\n",
    "from sklearn.preprocessing import OneHotEncoder\n",
    "from sklearn.model_selection import RandomizedSearchCV\n",
    "\n",
    "import tensorflow as tf\n",
    "\n",
    "from tensorflow.keras.models import Sequential\n",
    "from tensorflow.keras import layers\n",
    "from tensorflow.keras.preprocessing.text import Tokenizer\n",
    "from tensorflow.keras.preprocessing.sequence import pad_sequences\n",
    "from tensorflow.keras.wrappers.scikit_learn import KerasClassifier\n",
    "from tensorflow.keras.preprocessing import text, sequence\n",
    "from tensorflow.keras import regularizers\n",
    "from tensorflow.keras.layers import LSTM, Dense, TimeDistributed, Bidirectional, Dropout, Embedding\n",
    "\n",
    "import os\n",
    "# print(os.listdir(\"../CS230_Project\"))\n",
    "\n",
    "# when training on AWS p2.xlarge, this command will ensure that you're training with the GPU: \n",
    "os.environ[\"CUDA_VISIBLE_DEVICES\"] = \"0\"\n",
    "\n",
    "# you can run this command in a separate terminal tab in JupyterLab to monitor and sanity check whether your training is actually using GPU:\n",
    "# $ watch -n 1 nvidia-smi "
   ]
  },
  {
   "cell_type": "code",
   "execution_count": 2,
   "metadata": {},
   "outputs": [],
   "source": [
    "# Import data\n",
    "\n",
    "import pandas as pd\n",
    "import seaborn as sb\n",
    "%matplotlib inline\n",
    "\n",
    "df = pd.read_csv('dataset_clean.csv')"
   ]
  },
  {
   "cell_type": "code",
   "execution_count": 3,
   "metadata": {},
   "outputs": [],
   "source": [
    "lyrics = df['Lyrics'].values\n",
    "years = df['Year'].values"
   ]
  },
  {
   "cell_type": "code",
   "execution_count": 4,
   "metadata": {},
   "outputs": [
    {
     "data": {
      "text/plain": [
       "<matplotlib.axes._subplots.AxesSubplot at 0x7fdf9a0d33c8>"
      ]
     },
     "execution_count": 4,
     "metadata": {},
     "output_type": "execute_result"
    },
    {
     "data": {
      "image/png": "[encoded data removed]",
      "text/plain": [
       "<Figure size 432x288 with 1 Axes>"
      ]
     },
     "metadata": {},
     "output_type": "display_data"
    }
   ],
   "source": [
    "sb.countplot(years)"
   ]
  },
  {
   "cell_type": "code",
   "execution_count": 5,
   "metadata": {},
   "outputs": [],
   "source": [
    "lyrics_train, lyrics_test, y_train, y_test = train_test_split(lyrics, years, test_size = 0.3, random_state = 1000)"
   ]
  },
  {
   "cell_type": "code",
   "execution_count": 6,
   "metadata": {},
   "outputs": [],
   "source": [
    "# TODO: Revisit with TFIDF vectorizer \n",
    "\n",
    "# vectorizer = CountVectorizer()\n",
    "# vectorizer.fit(lyrics_train)\n",
    "\n",
    "# X_train = vectorizer.transform(lyrics_train)\n",
    "# X_test = vectorizer.transform(lyrics_test)"
   ]
  },
  {
   "cell_type": "code",
   "execution_count": 7,
   "metadata": {},
   "outputs": [],
   "source": [
    "n_classes=6\n",
    "\n",
    "years_train = tf.keras.utils.to_categorical(y_train,num_classes=n_classes)\n",
    "years_test = tf.keras.utils.to_categorical(y_test,num_classes=n_classes)"
   ]
  },
  {
   "cell_type": "code",
   "execution_count": null,
   "metadata": {},
   "outputs": [],
   "source": []
  },
  {
   "cell_type": "code",
   "execution_count": 15,
   "metadata": {},
   "outputs": [],
   "source": [
    "max_features = 10000\n",
    "max_len = 1500\n",
    "\n",
    "tok = text.Tokenizer(num_words=max_features, lower=False)\n",
    "\n",
    "tok.fit_on_texts(list(lyrics_train)+list(lyrics_test))\n",
    "X_train = tok.texts_to_sequences(lyrics_train)\n",
    "X_test = tok.texts_to_sequences(lyrics_test)\n",
    "\n",
    "x_train = sequence.pad_sequences(X_train,maxlen= max_len)\n",
    "x_test = sequence.pad_sequences(X_test, maxlen = max_len)\n"
   ]
  },
  {
   "cell_type": "code",
   "execution_count": 16,
   "metadata": {},
   "outputs": [],
   "source": [
    "model = Sequential()\n",
    "model.add(Embedding(max_features, 128, input_length=max_len))\n",
    "model.add(Bidirectional(LSTM(10)))\n",
    "# model.add(Dropout(0.5))\n",
    "# model.add(layers.Dense(10, \n",
    "#                        bias_regularizer=regularizers.l1(0.01),\n",
    "#                        kernel_regularizer=regularizers.l2(0.01),\n",
    "#                        activation='relu'))\n",
    "# model.add(Dropout(0.5))\n",
    "\n",
    "model.add(layers.Dense(n_classes,activation='softmax'))"
   ]
  },
  {
   "cell_type": "code",
   "execution_count": 17,
   "metadata": {
    "scrolled": true
   },
   "outputs": [],
   "source": [
    "model.compile(loss='categorical_crossentropy',\n",
    "              optimizer='adam',\n",
    "              metrics=['accuracy'])\n"
   ]
  },
  {
   "cell_type": "code",
   "execution_count": 22,
   "metadata": {},
   "outputs": [],
   "source": [
    "n_epochs = 20\n",
    "my_batch_size = 20"
   ]
  },
  {
   "cell_type": "code",
   "execution_count": null,
   "metadata": {},
   "outputs": [
    {
     "name": "stdout",
     "output_type": "stream",
     "text": [
      "Train on 3397 samples, validate on 1456 samples\n",
      "Epoch 1/20\n",
      "3397/3397 [==============================] - 1208s 355ms/sample - loss: 1.6743 - acc: 0.3100 - val_loss: 1.7219 - val_acc: 0.2830\n",
      "Epoch 2/20\n",
      "3397/3397 [==============================] - 1248s 367ms/sample - loss: 1.4760 - acc: 0.4133 - val_loss: 1.7051 - val_acc: 0.2905\n",
      "Epoch 3/20\n",
      "3397/3397 [==============================] - 1211s 356ms/sample - loss: 1.2906 - acc: 0.5269 - val_loss: 1.7697 - val_acc: 0.2960\n",
      "Epoch 4/20\n",
      "3220/3397 [===========================>..] - ETA: 53s - loss: 1.1035 - acc: 0.6106"
     ]
    }
   ],
   "source": [
    "history = model.fit(x_train, years_train, \n",
    "                    epochs=n_epochs,\n",
    "                    verbose=True,\n",
    "                    validation_data=(x_test, years_test),\n",
    "                    batch_size=my_batch_size) "
   ]
  },
  {
   "cell_type": "code",
   "execution_count": null,
   "metadata": {},
   "outputs": [],
   "source": [
    "X_train.shape"
   ]
  },
  {
   "cell_type": "code",
   "execution_count": null,
   "metadata": {},
   "outputs": [],
   "source": [
    "model.summary()"
   ]
  },
  {
   "cell_type": "code",
   "execution_count": null,
   "metadata": {},
   "outputs": [],
   "source": []
  }
 ],
 "metadata": {
  "kernelspec": {
   "display_name": "conda_tensorflow_p36",
   "language": "python",
   "name": "conda_tensorflow_p36"
  },
  "language_info": {
   "codemirror_mode": {
    "name": "ipython",
    "version": 3
   },
   "file_extension": ".py",
   "mimetype": "text/x-python",
   "name": "python",
   "nbconvert_exporter": "python",
   "pygments_lexer": "ipython3",
   "version": "3.6.5"
  }
 },
 "nbformat": 4,
 "nbformat_minor": 4
}

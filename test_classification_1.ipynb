{
 "cells": [
  {
   "cell_type": "code",
   "execution_count": 2,
   "metadata": {},
   "outputs": [
    {
     "name": "stdout",
     "output_type": "stream",
     "text": [
      "['380000-lyrics-from-metrolyrics.zip', 'test_classification_1.ipynb', '.DS_Store', 'preprocess_data.ipynb', 'dataset_clean.csv', 'lyrics.csv', '.ipynb_checkpoints', 'billboard-lyrics.zip', 'billboard_lyrics_1964-2015.csv']\n"
     ]
    }
   ],
   "source": [
    "\"\"\"\n",
    "Test reading in data & doing basic classification stuff. Either clean this file up later, or\n",
    "do other work on another file\n",
    "\"\"\"\n",
    "\n",
    "import numpy as np # linear algebra\n",
    "import pandas as pd # data processing, CSV file I/O (e.g. pd.read_csv)\n",
    "import matplotlib.pyplot as plt\n",
    "plt.style.use('ggplot')\n",
    "\n",
    "from sklearn.feature_extraction.text import CountVectorizer\n",
    "from sklearn.model_selection import train_test_split\n",
    "from sklearn.linear_model import LogisticRegression\n",
    "from sklearn.preprocessing import LabelEncoder\n",
    "from sklearn.preprocessing import OneHotEncoder\n",
    "from sklearn.model_selection import RandomizedSearchCV\n",
    "\n",
    "import tensorflow as tf\n",
    "\n",
    "from tensorflow.keras.models import Sequential\n",
    "from tensorflow.keras import layers\n",
    "from tensorflow.keras.preprocessing.text import Tokenizer\n",
    "from tensorflow.keras.preprocessing.sequence import pad_sequences\n",
    "from tensorflow.keras.wrappers.scikit_learn import KerasClassifier\n",
    "\n",
    "import os\n",
    "print(os.listdir(\"../CS230_Project\"))"
   ]
  },
  {
   "cell_type": "code",
   "execution_count": 3,
   "metadata": {},
   "outputs": [],
   "source": [
    "import pandas as pd\n",
    "\n",
    "df = pd.read_csv('dataset_clean.csv')"
   ]
  },
  {
   "cell_type": "code",
   "execution_count": 4,
   "metadata": {},
   "outputs": [],
   "source": [
    "lyrics = df['Lyrics'].values\n",
    "years = df['Year'].values"
   ]
  },
  {
   "cell_type": "code",
   "execution_count": 29,
   "metadata": {},
   "outputs": [],
   "source": [
    "lyrics_train, lyrics_test, y_train, y_test = train_test_split(lyrics, years, test_size = 0.3, random_state = 1000)\n",
    "\n"
   ]
  },
  {
   "cell_type": "code",
   "execution_count": 25,
   "metadata": {},
   "outputs": [],
   "source": [
    "vectorizer = CountVectorizer()\n",
    "vectorizer.fit(lyrics_train)\n",
    "\n",
    "X_train = vectorizer.transform(lyrics_train)\n",
    "X_test = vectorizer.transform(lyrics_test)"
   ]
  },
  {
   "cell_type": "code",
   "execution_count": 26,
   "metadata": {},
   "outputs": [],
   "source": [
    "# number of classes is 6 if grouping by decade, 11 if grouping by 5 years\n",
    "n_classes = 6\n",
    "\n",
    "years_train = tf.keras.utils.to_categorical(y_train,num_classes=n_classes)\n",
    "years_test = tf.keras.utils.to_categorical(y_test,num_classes=n_classes)"
   ]
  },
  {
   "cell_type": "code",
   "execution_count": 27,
   "metadata": {},
   "outputs": [
    {
     "data": {
      "text/plain": [
       "<3397x33731 sparse matrix of type '<class 'numpy.int64'>'\n",
       "\twith 378699 stored elements in Compressed Sparse Row format>"
      ]
     },
     "execution_count": 27,
     "metadata": {},
     "output_type": "execute_result"
    }
   ],
   "source": [
    "X_train"
   ]
  },
  {
   "cell_type": "code",
   "execution_count": 28,
   "metadata": {},
   "outputs": [],
   "source": [
    "input_dim = X_train.shape[1]\n",
    "\n",
    "model = Sequential()\n",
    "model.add(layers.Dense(10, input_dim=input_dim, activation='relu'))\n",
    "model.add(layers.Dense(n_classes,activation='softmax'))"
   ]
  },
  {
   "cell_type": "code",
   "execution_count": 88,
   "metadata": {},
   "outputs": [
    {
     "name": "stdout",
     "output_type": "stream",
     "text": [
      "_________________________________________________________________\n",
      "Layer (type)                 Output Shape              Param #   \n",
      "=================================================================\n",
      "dense_76 (Dense)             (None, 10)                337320    \n",
      "_________________________________________________________________\n",
      "dense_77 (Dense)             (None, 6)                 66        \n",
      "=================================================================\n",
      "Total params: 337,386\n",
      "Trainable params: 337,386\n",
      "Non-trainable params: 0\n",
      "_________________________________________________________________\n"
     ]
    }
   ],
   "source": [
    "model.compile(loss='categorical_crossentropy',\n",
    "              optimizer='adam',\n",
    "              metrics=['accuracy'])\n",
    "model.summary()"
   ]
  },
  {
   "cell_type": "code",
   "execution_count": 89,
   "metadata": {
    "scrolled": true
   },
   "outputs": [
    {
     "name": "stdout",
     "output_type": "stream",
     "text": [
      "Train on 3397 samples, validate on 1456 samples\n",
      "Epoch 1/100\n",
      "3397/3397 [==============================] - 8s 2ms/step - loss: 1.6166 - acc: 0.3091 - val_loss: 1.5154 - val_acc: 0.3654\n",
      "Epoch 2/100\n",
      "3397/3397 [==============================] - 5s 1ms/step - loss: 1.0771 - acc: 0.6173 - val_loss: 1.5234 - val_acc: 0.4004\n",
      "Epoch 3/100\n",
      "3397/3397 [==============================] - 5s 1ms/step - loss: 0.6700 - acc: 0.8113 - val_loss: 1.5632 - val_acc: 0.4093\n",
      "Epoch 4/100\n",
      "3397/3397 [==============================] - 5s 1ms/step - loss: 0.3912 - acc: 0.9123 - val_loss: 1.7119 - val_acc: 0.4128\n",
      "Epoch 5/100\n",
      "3397/3397 [==============================] - 5s 1ms/step - loss: 0.2370 - acc: 0.9547 - val_loss: 1.8564 - val_acc: 0.4011\n",
      "Epoch 6/100\n",
      "3397/3397 [==============================] - 5s 1ms/step - loss: 0.1531 - acc: 0.9741 - val_loss: 1.9783 - val_acc: 0.4155\n",
      "Epoch 7/100\n",
      "3397/3397 [==============================] - 5s 1ms/step - loss: 0.1099 - acc: 0.9826 - val_loss: 2.1278 - val_acc: 0.4073\n",
      "Epoch 8/100\n",
      "3397/3397 [==============================] - 5s 1ms/step - loss: 0.0822 - acc: 0.9859 - val_loss: 2.2581 - val_acc: 0.4025\n",
      "Epoch 9/100\n",
      "3397/3397 [==============================] - 5s 1ms/step - loss: 0.0735 - acc: 0.9865 - val_loss: 2.3289 - val_acc: 0.3990\n",
      "Epoch 10/100\n",
      "3397/3397 [==============================] - 5s 1ms/step - loss: 0.0544 - acc: 0.9870 - val_loss: 2.5272 - val_acc: 0.3970\n",
      "Epoch 11/100\n",
      "3397/3397 [==============================] - 5s 1ms/step - loss: 0.0578 - acc: 0.9865 - val_loss: 2.5486 - val_acc: 0.4025\n",
      "Epoch 12/100\n",
      "3397/3397 [==============================] - 5s 1ms/step - loss: 0.0553 - acc: 0.9876 - val_loss: 2.6985 - val_acc: 0.3997\n",
      "Epoch 13/100\n",
      "3397/3397 [==============================] - 5s 2ms/step - loss: 0.0535 - acc: 0.9882 - val_loss: 2.7430 - val_acc: 0.3887\n",
      "Epoch 14/100\n",
      "3397/3397 [==============================] - 5s 1ms/step - loss: 0.0468 - acc: 0.9882 - val_loss: 2.8750 - val_acc: 0.4011\n",
      "Epoch 15/100\n",
      "3397/3397 [==============================] - 6s 2ms/step - loss: 0.0559 - acc: 0.9882 - val_loss: 2.9608 - val_acc: 0.3935\n",
      "Epoch 16/100\n",
      "3397/3397 [==============================] - 7s 2ms/step - loss: 0.0477 - acc: 0.9888 - val_loss: 2.9220 - val_acc: 0.3853\n",
      "Epoch 17/100\n",
      "3397/3397 [==============================] - 5s 1ms/step - loss: 0.0419 - acc: 0.9897 - val_loss: 3.0072 - val_acc: 0.3956\n",
      "Epoch 18/100\n",
      "3397/3397 [==============================] - 4s 1ms/step - loss: 0.0520 - acc: 0.9882 - val_loss: 3.0872 - val_acc: 0.3867\n",
      "Epoch 19/100\n",
      "3397/3397 [==============================] - 5s 1ms/step - loss: 0.0373 - acc: 0.9906 - val_loss: 3.3169 - val_acc: 0.3908\n",
      "Epoch 20/100\n",
      "3397/3397 [==============================] - 5s 1ms/step - loss: 0.0472 - acc: 0.9888 - val_loss: 3.2441 - val_acc: 0.4032\n",
      "Epoch 21/100\n",
      "3397/3397 [==============================] - 5s 2ms/step - loss: 0.0418 - acc: 0.9903 - val_loss: 3.3286 - val_acc: 0.3819\n",
      "Epoch 22/100\n",
      "3397/3397 [==============================] - 5s 1ms/step - loss: 0.0467 - acc: 0.9897 - val_loss: 3.2504 - val_acc: 0.3867\n",
      "Epoch 23/100\n",
      "3397/3397 [==============================] - 5s 1ms/step - loss: 0.0506 - acc: 0.9879 - val_loss: 3.3518 - val_acc: 0.3949\n",
      "Epoch 24/100\n",
      "3397/3397 [==============================] - 5s 1ms/step - loss: 0.0432 - acc: 0.9894 - val_loss: 3.5082 - val_acc: 0.3798\n",
      "Epoch 25/100\n",
      "3397/3397 [==============================] - 5s 1ms/step - loss: 0.0385 - acc: 0.9903 - val_loss: 3.5083 - val_acc: 0.3935\n",
      "Epoch 26/100\n",
      "3397/3397 [==============================] - 5s 1ms/step - loss: 0.0382 - acc: 0.9915 - val_loss: 3.5856 - val_acc: 0.3949\n",
      "Epoch 27/100\n",
      "3397/3397 [==============================] - 5s 1ms/step - loss: 0.0345 - acc: 0.9909 - val_loss: 3.7020 - val_acc: 0.3880\n",
      "Epoch 28/100\n",
      "3397/3397 [==============================] - 6s 2ms/step - loss: 0.0387 - acc: 0.9906 - val_loss: 3.7232 - val_acc: 0.3819\n",
      "Epoch 29/100\n",
      "3397/3397 [==============================] - 6s 2ms/step - loss: 0.0388 - acc: 0.9909 - val_loss: 3.7011 - val_acc: 0.3908\n",
      "Epoch 30/100\n",
      "3397/3397 [==============================] - 6s 2ms/step - loss: 0.0396 - acc: 0.9906 - val_loss: 4.0440 - val_acc: 0.3585\n",
      "Epoch 31/100\n",
      "3397/3397 [==============================] - 5s 1ms/step - loss: 0.0412 - acc: 0.9900 - val_loss: 3.8146 - val_acc: 0.3908\n",
      "Epoch 32/100\n",
      "3397/3397 [==============================] - 5s 1ms/step - loss: 0.0353 - acc: 0.9912 - val_loss: 4.1692 - val_acc: 0.3832\n",
      "Epoch 33/100\n",
      "3397/3397 [==============================] - 5s 1ms/step - loss: 0.0394 - acc: 0.9879 - val_loss: 3.6251 - val_acc: 0.3929\n",
      "Epoch 34/100\n",
      "3397/3397 [==============================] - 4s 1ms/step - loss: 0.0373 - acc: 0.9888 - val_loss: 3.6478 - val_acc: 0.4066\n",
      "Epoch 35/100\n",
      "3397/3397 [==============================] - 4s 1ms/step - loss: 0.0255 - acc: 0.9915 - val_loss: 3.9119 - val_acc: 0.3901\n",
      "Epoch 36/100\n",
      "3397/3397 [==============================] - 5s 1ms/step - loss: 0.0283 - acc: 0.9900 - val_loss: 3.8878 - val_acc: 0.3832\n",
      "Epoch 37/100\n",
      "3397/3397 [==============================] - 5s 2ms/step - loss: 0.0308 - acc: 0.9897 - val_loss: 3.9190 - val_acc: 0.3963\n",
      "Epoch 38/100\n",
      "3397/3397 [==============================] - 6s 2ms/step - loss: 0.0255 - acc: 0.9909 - val_loss: 4.0933 - val_acc: 0.3805\n",
      "Epoch 39/100\n",
      "3397/3397 [==============================] - 5s 2ms/step - loss: 0.0373 - acc: 0.9900 - val_loss: 4.0027 - val_acc: 0.3908\n",
      "Epoch 40/100\n",
      "3397/3397 [==============================] - 5s 1ms/step - loss: 0.0289 - acc: 0.9915 - val_loss: 4.0977 - val_acc: 0.3853\n",
      "Epoch 41/100\n",
      "3397/3397 [==============================] - 5s 2ms/step - loss: 0.0284 - acc: 0.9918 - val_loss: 4.0888 - val_acc: 0.3853\n",
      "Epoch 42/100\n",
      "3397/3397 [==============================] - 5s 2ms/step - loss: 0.0335 - acc: 0.9900 - val_loss: 4.0525 - val_acc: 0.3984\n",
      "Epoch 43/100\n",
      "3397/3397 [==============================] - 5s 1ms/step - loss: 0.0277 - acc: 0.9912 - val_loss: 4.0646 - val_acc: 0.3867\n",
      "Epoch 44/100\n",
      "3397/3397 [==============================] - 7s 2ms/step - loss: 0.0294 - acc: 0.9903 - val_loss: 4.1424 - val_acc: 0.3777\n",
      "Epoch 45/100\n",
      "3397/3397 [==============================] - 5s 2ms/step - loss: 0.0287 - acc: 0.9909 - val_loss: 4.0731 - val_acc: 0.3826\n",
      "Epoch 46/100\n",
      "3397/3397 [==============================] - 5s 2ms/step - loss: 0.0238 - acc: 0.9912 - val_loss: 4.2424 - val_acc: 0.3777\n",
      "Epoch 47/100\n",
      "3397/3397 [==============================] - 5s 2ms/step - loss: 0.0260 - acc: 0.9915 - val_loss: 4.0198 - val_acc: 0.3908\n",
      "Epoch 48/100\n",
      "3397/3397 [==============================] - 5s 1ms/step - loss: 0.0289 - acc: 0.9912 - val_loss: 4.3192 - val_acc: 0.3729\n",
      "Epoch 49/100\n",
      "3397/3397 [==============================] - 6s 2ms/step - loss: 0.0255 - acc: 0.9912 - val_loss: 4.4122 - val_acc: 0.3736\n",
      "Epoch 50/100\n",
      "3397/3397 [==============================] - 5s 2ms/step - loss: 0.0332 - acc: 0.9903 - val_loss: 4.3439 - val_acc: 0.3894\n",
      "Epoch 51/100\n",
      "3397/3397 [==============================] - 5s 2ms/step - loss: 0.0299 - acc: 0.9906 - val_loss: 4.2513 - val_acc: 0.3894\n",
      "Epoch 52/100\n",
      "3397/3397 [==============================] - 5s 2ms/step - loss: 0.0298 - acc: 0.9897 - val_loss: 4.1961 - val_acc: 0.3839\n",
      "Epoch 53/100\n",
      "3397/3397 [==============================] - 6s 2ms/step - loss: 0.0260 - acc: 0.9912 - val_loss: 4.3104 - val_acc: 0.3771\n",
      "Epoch 54/100\n",
      "3397/3397 [==============================] - 7s 2ms/step - loss: 0.0238 - acc: 0.9915 - val_loss: 4.4377 - val_acc: 0.3668\n",
      "Epoch 55/100\n",
      "3397/3397 [==============================] - 5s 1ms/step - loss: 0.0244 - acc: 0.9912 - val_loss: 4.2980 - val_acc: 0.3839\n",
      "Epoch 56/100\n",
      "3397/3397 [==============================] - 4s 1ms/step - loss: 0.0247 - acc: 0.9912 - val_loss: 4.2791 - val_acc: 0.3798\n",
      "Epoch 57/100\n",
      "3397/3397 [==============================] - 5s 1ms/step - loss: 0.0231 - acc: 0.9909 - val_loss: 4.5196 - val_acc: 0.3771\n",
      "Epoch 58/100\n",
      "3397/3397 [==============================] - 5s 1ms/step - loss: 0.0238 - acc: 0.9906 - val_loss: 4.5332 - val_acc: 0.3846\n",
      "Epoch 59/100\n",
      "3397/3397 [==============================] - 5s 1ms/step - loss: 0.0309 - acc: 0.9906 - val_loss: 4.4890 - val_acc: 0.3764\n",
      "Epoch 60/100\n",
      "3397/3397 [==============================] - 5s 1ms/step - loss: 0.0308 - acc: 0.9906 - val_loss: 4.4872 - val_acc: 0.3791\n"
     ]
    },
    {
     "name": "stdout",
     "output_type": "stream",
     "text": [
      "Epoch 61/100\n",
      "3397/3397 [==============================] - 5s 1ms/step - loss: 0.0278 - acc: 0.9906 - val_loss: 4.4458 - val_acc: 0.3805\n",
      "Epoch 62/100\n",
      "3397/3397 [==============================] - 5s 1ms/step - loss: 0.0303 - acc: 0.9903 - val_loss: 4.3512 - val_acc: 0.3826\n",
      "Epoch 63/100\n",
      "3397/3397 [==============================] - 5s 1ms/step - loss: 0.0232 - acc: 0.9897 - val_loss: 4.7495 - val_acc: 0.3826\n",
      "Epoch 64/100\n",
      "3397/3397 [==============================] - 5s 1ms/step - loss: 0.0224 - acc: 0.9909 - val_loss: 4.6377 - val_acc: 0.3860\n",
      "Epoch 65/100\n",
      "3397/3397 [==============================] - 5s 1ms/step - loss: 0.0208 - acc: 0.9909 - val_loss: 4.7527 - val_acc: 0.3743\n",
      "Epoch 66/100\n",
      "3397/3397 [==============================] - 5s 1ms/step - loss: 0.0203 - acc: 0.9921 - val_loss: 4.7002 - val_acc: 0.3846\n",
      "Epoch 67/100\n",
      "3397/3397 [==============================] - 4s 1ms/step - loss: 0.0218 - acc: 0.9909 - val_loss: 4.8555 - val_acc: 0.3846\n",
      "Epoch 68/100\n",
      "3397/3397 [==============================] - 4s 1ms/step - loss: 0.0322 - acc: 0.9906 - val_loss: 5.0747 - val_acc: 0.3771\n",
      "Epoch 69/100\n",
      "3397/3397 [==============================] - 5s 1ms/step - loss: 0.0268 - acc: 0.9897 - val_loss: 5.0286 - val_acc: 0.3791\n",
      "Epoch 70/100\n",
      "3397/3397 [==============================] - 6s 2ms/step - loss: 0.0171 - acc: 0.9903 - val_loss: 4.9251 - val_acc: 0.3805\n",
      "Epoch 71/100\n",
      "3397/3397 [==============================] - 6s 2ms/step - loss: 0.0162 - acc: 0.9918 - val_loss: 5.0482 - val_acc: 0.3729\n",
      "Epoch 72/100\n",
      "3397/3397 [==============================] - 5s 2ms/step - loss: 0.0161 - acc: 0.9906 - val_loss: 5.0261 - val_acc: 0.3908\n",
      "Epoch 73/100\n",
      "3397/3397 [==============================] - 5s 2ms/step - loss: 0.0213 - acc: 0.9903 - val_loss: 5.1214 - val_acc: 0.3709\n",
      "Epoch 74/100\n",
      "3397/3397 [==============================] - 5s 2ms/step - loss: 0.0230 - acc: 0.9900 - val_loss: 5.2155 - val_acc: 0.3887\n",
      "Epoch 75/100\n",
      "3397/3397 [==============================] - 5s 1ms/step - loss: 0.0192 - acc: 0.9912 - val_loss: 5.3159 - val_acc: 0.3819\n",
      "Epoch 76/100\n",
      "3397/3397 [==============================] - 5s 2ms/step - loss: 0.0198 - acc: 0.9915 - val_loss: 5.1989 - val_acc: 0.3853\n",
      "Epoch 77/100\n",
      "3397/3397 [==============================] - 5s 2ms/step - loss: 0.0158 - acc: 0.9909 - val_loss: 5.3167 - val_acc: 0.3791\n",
      "Epoch 78/100\n",
      "3397/3397 [==============================] - 5s 2ms/step - loss: 0.0155 - acc: 0.9903 - val_loss: 5.3920 - val_acc: 0.3798\n",
      "Epoch 79/100\n",
      "3397/3397 [==============================] - 6s 2ms/step - loss: 0.0151 - acc: 0.9903 - val_loss: 5.3697 - val_acc: 0.3784\n",
      "Epoch 80/100\n",
      "3397/3397 [==============================] - 7s 2ms/step - loss: 0.0154 - acc: 0.9912 - val_loss: 5.3956 - val_acc: 0.3736\n",
      "Epoch 81/100\n",
      "3397/3397 [==============================] - 5s 1ms/step - loss: 0.0152 - acc: 0.9909 - val_loss: 5.4782 - val_acc: 0.3764\n",
      "Epoch 82/100\n",
      "3397/3397 [==============================] - 5s 1ms/step - loss: 0.0152 - acc: 0.9906 - val_loss: 5.6401 - val_acc: 0.3674\n",
      "Epoch 83/100\n",
      "3397/3397 [==============================] - 4s 1ms/step - loss: 0.0151 - acc: 0.9906 - val_loss: 5.6020 - val_acc: 0.3784\n",
      "Epoch 84/100\n",
      "3397/3397 [==============================] - 4s 1ms/step - loss: 0.0184 - acc: 0.9921 - val_loss: 5.5836 - val_acc: 0.3736\n",
      "Epoch 85/100\n",
      "3397/3397 [==============================] - 4s 1ms/step - loss: 0.0157 - acc: 0.9900 - val_loss: 5.7680 - val_acc: 0.3688\n",
      "Epoch 86/100\n",
      "3397/3397 [==============================] - 4s 1ms/step - loss: 0.0209 - acc: 0.9906 - val_loss: 5.6533 - val_acc: 0.3716\n",
      "Epoch 87/100\n",
      "3397/3397 [==============================] - 4s 1ms/step - loss: 0.0157 - acc: 0.9903 - val_loss: 5.7341 - val_acc: 0.3750\n",
      "Epoch 88/100\n",
      "3397/3397 [==============================] - 4s 1ms/step - loss: 0.0207 - acc: 0.9903 - val_loss: 5.7652 - val_acc: 0.3791\n",
      "Epoch 89/100\n",
      "3397/3397 [==============================] - 4s 1ms/step - loss: 0.0223 - acc: 0.9897 - val_loss: 5.7317 - val_acc: 0.3798\n",
      "Epoch 90/100\n",
      "3397/3397 [==============================] - 4s 1ms/step - loss: 0.0219 - acc: 0.9915 - val_loss: 5.7559 - val_acc: 0.3723\n",
      "Epoch 91/100\n",
      "3397/3397 [==============================] - 5s 1ms/step - loss: 0.0295 - acc: 0.9882 - val_loss: 5.7932 - val_acc: 0.3709\n",
      "Epoch 92/100\n",
      "3397/3397 [==============================] - 5s 1ms/step - loss: 0.0219 - acc: 0.9909 - val_loss: 5.9145 - val_acc: 0.3805\n",
      "Epoch 93/100\n",
      "3397/3397 [==============================] - 5s 2ms/step - loss: 0.0184 - acc: 0.9906 - val_loss: 5.7627 - val_acc: 0.3764\n",
      "Epoch 94/100\n",
      "3397/3397 [==============================] - 4s 1ms/step - loss: 0.0153 - acc: 0.9918 - val_loss: 5.8279 - val_acc: 0.3832\n",
      "Epoch 95/100\n",
      "3397/3397 [==============================] - 4s 1ms/step - loss: 0.0170 - acc: 0.9903 - val_loss: 5.8678 - val_acc: 0.3832\n",
      "Epoch 96/100\n",
      "3397/3397 [==============================] - 5s 1ms/step - loss: 0.0149 - acc: 0.9915 - val_loss: 5.9383 - val_acc: 0.3709\n",
      "Epoch 97/100\n",
      "3397/3397 [==============================] - 5s 1ms/step - loss: 0.0151 - acc: 0.9909 - val_loss: 6.0138 - val_acc: 0.3702\n",
      "Epoch 98/100\n",
      "3397/3397 [==============================] - 7s 2ms/step - loss: 0.0150 - acc: 0.9912 - val_loss: 6.0152 - val_acc: 0.3784\n",
      "Epoch 99/100\n",
      "3397/3397 [==============================] - 6s 2ms/step - loss: 0.0147 - acc: 0.9903 - val_loss: 5.9941 - val_acc: 0.3791\n",
      "Epoch 100/100\n",
      "3397/3397 [==============================] - 9s 3ms/step - loss: 0.0139 - acc: 0.9915 - val_loss: 6.0074 - val_acc: 0.3716\n"
     ]
    }
   ],
   "source": [
    "history = model.fit(X_train, years_train, \n",
    "                    epochs=100,\n",
    "                    verbose=True,\n",
    "                    validation_data=(X_test, years_test),\n",
    "                    batch_size=10)"
   ]
  },
  {
   "cell_type": "code",
   "execution_count": 90,
   "metadata": {},
   "outputs": [
    {
     "name": "stdout",
     "output_type": "stream",
     "text": [
      "Training Accuracy: 0.9926\n",
      "Testing Accuracy:  0.3716\n"
     ]
    }
   ],
   "source": [
    "loss, accuracy = model.evaluate(X_train, years_train, verbose=False)\n",
    "print(\"Training Accuracy: {:.4f}\".format(accuracy)) # Prev 0.9941\n",
    "loss, accuracy = model.evaluate(X_test, years_test, verbose=False)\n",
    "print(\"Testing Accuracy:  {:.4f}\".format(accuracy)) # prev 0.3777"
   ]
  },
  {
   "cell_type": "code",
   "execution_count": 91,
   "metadata": {},
   "outputs": [],
   "source": [
    "def plot_history(history):\n",
    "    acc = history.history['acc']\n",
    "    val_acc = history.history['val_acc']\n",
    "    loss = history.history['loss']\n",
    "    val_loss = history.history['val_loss']\n",
    "    x = range(1, len(acc) + 1)\n",
    "\n",
    "    plt.figure(figsize=(12, 5))\n",
    "    plt.subplot(1, 2, 1)\n",
    "    plt.plot(x, acc, 'b', label='Training acc')\n",
    "    plt.plot(x, val_acc, 'r', label='Validation acc')\n",
    "    plt.title('Training and validation accuracy')\n",
    "    plt.legend()\n",
    "    plt.subplot(1, 2, 2)\n",
    "    plt.plot(x, loss, 'b', label='Training loss')\n",
    "    plt.plot(x, val_loss, 'r', label='Validation loss')\n",
    "    plt.title('Training and validation loss')\n",
    "    plt.legend()"
   ]
  },
  {
   "cell_type": "code",
   "execution_count": 92,
   "metadata": {},
   "outputs": [
    {
     "data": {
      "image/png": "[encoded data removed]",
      "text/plain": [
       "<Figure size 864x360 with 2 Axes>"
      ]
     },
     "metadata": {
      "needs_background": "light"
     },
     "output_type": "display_data"
    }
   ],
   "source": [
    "plot_history(history)\n"
   ]
  },
  {
   "cell_type": "code",
   "execution_count": 93,
   "metadata": {},
   "outputs": [],
   "source": [
    "tokenizer = Tokenizer(num_words=5000)\n",
    "tokenizer.fit_on_texts(lyrics_train) \n",
    "\n",
    "X_train = tokenizer.texts_to_sequences(lyrics_train)\n",
    "X_test = tokenizer.texts_to_sequences(lyrics_test)\n",
    "\n",
    "vocab_size = len(tokenizer.word_index) + 1"
   ]
  },
  {
   "cell_type": "code",
   "execution_count": 94,
   "metadata": {},
   "outputs": [],
   "source": [
    "maxlen = 1500\n",
    "\n",
    "X_train = pad_sequences(X_train, padding='post', maxlen=maxlen)\n",
    "X_test = pad_sequences(X_test, padding='post', maxlen=maxlen)"
   ]
  },
  {
   "cell_type": "code",
   "execution_count": 95,
   "metadata": {},
   "outputs": [
    {
     "name": "stdout",
     "output_type": "stream",
     "text": [
      "_________________________________________________________________\n",
      "Layer (type)                 Output Shape              Param #   \n",
      "=================================================================\n",
      "embedding_36 (Embedding)     (None, 1500, 50)          1689000   \n",
      "_________________________________________________________________\n",
      "flatten_1 (Flatten)          (None, 75000)             0         \n",
      "_________________________________________________________________\n",
      "dense_78 (Dense)             (None, 10)                750010    \n",
      "_________________________________________________________________\n",
      "dense_79 (Dense)             (None, 6)                 66        \n",
      "=================================================================\n",
      "Total params: 2,439,076\n",
      "Trainable params: 2,439,076\n",
      "Non-trainable params: 0\n",
      "_________________________________________________________________\n"
     ]
    }
   ],
   "source": [
    "embedding_dim = 50\n",
    "\n",
    "model = Sequential()\n",
    "model.add(layers.Embedding(input_dim=vocab_size,\n",
    "                            output_dim=embedding_dim,\n",
    "                            input_length=maxlen))\n",
    "model.add(layers.Flatten())\n",
    "model.add(layers.Dense(10, activation='relu'))\n",
    "model.add(layers.Dense(n_classes, activation='softmax'))\n",
    "model.compile(optimizer='adam',\n",
    "              loss='categorical_crossentropy',\n",
    "              metrics=['accuracy'])\n",
    "model.summary()"
   ]
  },
  {
   "cell_type": "code",
   "execution_count": 96,
   "metadata": {
    "scrolled": true
   },
   "outputs": [
    {
     "name": "stderr",
     "output_type": "stream",
     "text": [
      "/Users/Joe1/anaconda3/lib/python3.6/site-packages/tensorflow/python/ops/gradients_impl.py:108: UserWarning: Converting sparse IndexedSlices to a dense Tensor of unknown shape. This may consume a large amount of memory.\n",
      "  \"Converting sparse IndexedSlices to a dense Tensor of unknown shape. \"\n",
      "/Users/Joe1/anaconda3/lib/python3.6/site-packages/tensorflow/python/ops/gradients_impl.py:108: UserWarning: Converting sparse IndexedSlices to a dense Tensor of unknown shape. This may consume a large amount of memory.\n",
      "  \"Converting sparse IndexedSlices to a dense Tensor of unknown shape. \"\n"
     ]
    },
    {
     "name": "stdout",
     "output_type": "stream",
     "text": [
      "Train on 3397 samples, validate on 1456 samples\n",
      "Epoch 1/20\n",
      "3397/3397 [==============================] - 29s 8ms/step - loss: 1.7930 - acc: 0.1934 - val_loss: 1.7734 - val_acc: 0.1985\n",
      "Epoch 2/20\n",
      "3397/3397 [==============================] - 25s 7ms/step - loss: 1.7558 - acc: 0.2025 - val_loss: 1.6707 - val_acc: 0.2782\n",
      "Epoch 3/20\n",
      "3397/3397 [==============================] - 27s 8ms/step - loss: 1.6176 - acc: 0.3011 - val_loss: 1.6148 - val_acc: 0.3159\n",
      "Epoch 4/20\n",
      "3397/3397 [==============================] - 27s 8ms/step - loss: 1.2862 - acc: 0.5046 - val_loss: 1.6180 - val_acc: 0.3434\n",
      "Epoch 5/20\n",
      "3397/3397 [==============================] - 25s 7ms/step - loss: 0.9840 - acc: 0.6568 - val_loss: 1.6411 - val_acc: 0.3578\n",
      "Epoch 6/20\n",
      "3397/3397 [==============================] - 24s 7ms/step - loss: 0.7573 - acc: 0.7460 - val_loss: 1.7933 - val_acc: 0.3434\n",
      "Epoch 7/20\n",
      "3397/3397 [==============================] - 27s 8ms/step - loss: 0.6206 - acc: 0.7931 - val_loss: 1.8646 - val_acc: 0.3523\n",
      "Epoch 8/20\n",
      "3397/3397 [==============================] - 25s 7ms/step - loss: 0.5160 - acc: 0.8372 - val_loss: 2.0217 - val_acc: 0.3462\n",
      "Epoch 9/20\n",
      "3397/3397 [==============================] - 25s 7ms/step - loss: 0.3938 - acc: 0.8817 - val_loss: 2.2422 - val_acc: 0.3338\n",
      "Epoch 10/20\n",
      "3397/3397 [==============================] - 26s 8ms/step - loss: 0.2336 - acc: 0.9223 - val_loss: 2.5683 - val_acc: 0.3359\n",
      "Epoch 11/20\n",
      "3397/3397 [==============================] - 24s 7ms/step - loss: 0.1459 - acc: 0.9591 - val_loss: 2.5849 - val_acc: 0.3462\n",
      "Epoch 12/20\n",
      "3397/3397 [==============================] - 23s 7ms/step - loss: 0.0894 - acc: 0.9815 - val_loss: 2.4661 - val_acc: 0.3413\n",
      "Epoch 13/20\n",
      "3397/3397 [==============================] - 24s 7ms/step - loss: 0.0738 - acc: 0.9868 - val_loss: 2.5863 - val_acc: 0.3297\n",
      "Epoch 14/20\n",
      "3397/3397 [==============================] - 23s 7ms/step - loss: 0.0590 - acc: 0.9885 - val_loss: 2.8587 - val_acc: 0.3468\n",
      "Epoch 15/20\n",
      "3397/3397 [==============================] - 25s 7ms/step - loss: 0.0545 - acc: 0.9888 - val_loss: 2.6962 - val_acc: 0.3379\n",
      "Epoch 16/20\n",
      "3397/3397 [==============================] - 24s 7ms/step - loss: 0.0595 - acc: 0.9894 - val_loss: 2.6387 - val_acc: 0.3407\n",
      "Epoch 17/20\n",
      "3397/3397 [==============================] - 23s 7ms/step - loss: 0.0514 - acc: 0.9885 - val_loss: 2.6978 - val_acc: 0.3372\n",
      "Epoch 18/20\n",
      "3397/3397 [==============================] - 22s 7ms/step - loss: 0.0615 - acc: 0.9882 - val_loss: 2.9869 - val_acc: 0.3462\n",
      "Epoch 19/20\n",
      "3397/3397 [==============================] - 23s 7ms/step - loss: 0.0539 - acc: 0.9900 - val_loss: 3.3160 - val_acc: 0.3207\n",
      "Epoch 20/20\n",
      "3397/3397 [==============================] - 23s 7ms/step - loss: 0.0461 - acc: 0.9894 - val_loss: 3.2647 - val_acc: 0.3523\n",
      "Training Accuracy: 0.9900\n",
      "Testing Accuracy:  0.3523\n"
     ]
    },
    {
     "data": {
      "image/png": "[encoded data removed]",
      "text/plain": [
       "<Figure size 864x360 with 2 Axes>"
      ]
     },
     "metadata": {
      "needs_background": "light"
     },
     "output_type": "display_data"
    }
   ],
   "source": [
    "history = model.fit(X_train, years_train,\n",
    "                    epochs=20,\n",
    "                    verbose=True,\n",
    "                    validation_data=(X_test, years_test),\n",
    "                    batch_size=10)\n",
    "loss, accuracy = model.evaluate(X_train, years_train, verbose=False)\n",
    "print(\"Training Accuracy: {:.4f}\".format(accuracy))\n",
    "loss, accuracy = model.evaluate(X_test, years_test, verbose=False)\n",
    "print(\"Testing Accuracy:  {:.4f}\".format(accuracy))\n",
    "plot_history(history)"
   ]
  },
  {
   "cell_type": "code",
   "execution_count": null,
   "metadata": {},
   "outputs": [],
   "source": []
  },
  {
   "cell_type": "code",
   "execution_count": null,
   "metadata": {},
   "outputs": [],
   "source": []
  },
  {
   "cell_type": "code",
   "execution_count": 97,
   "metadata": {},
   "outputs": [
    {
     "name": "stdout",
     "output_type": "stream",
     "text": [
      "_________________________________________________________________\n",
      "Layer (type)                 Output Shape              Param #   \n",
      "=================================================================\n",
      "embedding_37 (Embedding)     (None, 1500, 100)         3378000   \n",
      "_________________________________________________________________\n",
      "conv1d_35 (Conv1D)           (None, 1496, 128)         64128     \n",
      "_________________________________________________________________\n",
      "global_max_pooling1d_35 (Glo (None, 128)               0         \n",
      "_________________________________________________________________\n",
      "dense_80 (Dense)             (None, 10)                1290      \n",
      "_________________________________________________________________\n",
      "dense_81 (Dense)             (None, 6)                 66        \n",
      "=================================================================\n",
      "Total params: 3,443,484\n",
      "Trainable params: 3,443,484\n",
      "Non-trainable params: 0\n",
      "_________________________________________________________________\n"
     ]
    }
   ],
   "source": [
    "embedding_dim = 100\n",
    "\n",
    "model = Sequential()\n",
    "model.add(layers.Embedding(vocab_size, embedding_dim, input_length=maxlen))\n",
    "model.add(layers.Conv1D(128, 5, activation='relu'))\n",
    "model.add(layers.GlobalMaxPooling1D())\n",
    "model.add(layers.Dense(10, activation='relu'))\n",
    "model.add(layers.Dense(n_classes, activation='softmax'))\n",
    "model.compile(optimizer='adam',\n",
    "              loss='categorical_crossentropy',\n",
    "              metrics=['accuracy'])\n",
    "model.summary()\n"
   ]
  },
  {
   "cell_type": "code",
   "execution_count": 98,
   "metadata": {},
   "outputs": [
    {
     "name": "stderr",
     "output_type": "stream",
     "text": [
      "/Users/Joe1/anaconda3/lib/python3.6/site-packages/tensorflow/python/ops/gradients_impl.py:108: UserWarning: Converting sparse IndexedSlices to a dense Tensor of unknown shape. This may consume a large amount of memory.\n",
      "  \"Converting sparse IndexedSlices to a dense Tensor of unknown shape. \"\n",
      "/Users/Joe1/anaconda3/lib/python3.6/site-packages/tensorflow/python/ops/gradients_impl.py:108: UserWarning: Converting sparse IndexedSlices to a dense Tensor of unknown shape. This may consume a large amount of memory.\n",
      "  \"Converting sparse IndexedSlices to a dense Tensor of unknown shape. \"\n"
     ]
    },
    {
     "name": "stdout",
     "output_type": "stream",
     "text": [
      "Train on 3397 samples, validate on 1456 samples\n",
      "Epoch 1/10\n",
      "3397/3397 [==============================] - 117s 35ms/step - loss: 1.7464 - acc: 0.2223 - val_loss: 1.7144 - val_acc: 0.2390\n",
      "Epoch 2/10\n",
      "3397/3397 [==============================] - 108s 32ms/step - loss: 1.5935 - acc: 0.3444 - val_loss: 1.6434 - val_acc: 0.3111\n",
      "Epoch 3/10\n",
      "3397/3397 [==============================] - 109s 32ms/step - loss: 1.2851 - acc: 0.4946 - val_loss: 1.5221 - val_acc: 0.3784\n",
      "Epoch 4/10\n",
      "3397/3397 [==============================] - 104s 31ms/step - loss: 0.8625 - acc: 0.7012 - val_loss: 1.5322 - val_acc: 0.3935\n",
      "Epoch 5/10\n",
      "3397/3397 [==============================] - 108s 32ms/step - loss: 0.5329 - acc: 0.8434 - val_loss: 1.7024 - val_acc: 0.3977\n",
      "Epoch 6/10\n",
      "3397/3397 [==============================] - 103s 30ms/step - loss: 0.3611 - acc: 0.8855 - val_loss: 1.9744 - val_acc: 0.4087\n",
      "Epoch 7/10\n",
      "3397/3397 [==============================] - 112s 33ms/step - loss: 0.2704 - acc: 0.9037 - val_loss: 2.1858 - val_acc: 0.3880\n",
      "Epoch 8/10\n",
      "3397/3397 [==============================] - 110s 32ms/step - loss: 0.2202 - acc: 0.9408 - val_loss: 2.4849 - val_acc: 0.3674\n",
      "Epoch 9/10\n",
      "3397/3397 [==============================] - 109s 32ms/step - loss: 0.1900 - acc: 0.9529 - val_loss: 2.8042 - val_acc: 0.3571\n",
      "Epoch 10/10\n",
      "3397/3397 [==============================] - 105s 31ms/step - loss: 0.1491 - acc: 0.9638 - val_loss: 3.2606 - val_acc: 0.3407\n",
      "Training Accuracy: 0.9732\n",
      "Testing Accuracy:  0.3407\n"
     ]
    },
    {
     "data": {
      "image/png": "[encoded data removed]",
      "text/plain": [
       "<Figure size 864x360 with 2 Axes>"
      ]
     },
     "metadata": {
      "needs_background": "light"
     },
     "output_type": "display_data"
    }
   ],
   "source": [
    "history = model.fit(X_train, years_train,\n",
    "                    epochs=10,\n",
    "                    verbose=True,\n",
    "                    validation_data=(X_test, years_test),\n",
    "                    batch_size=10)\n",
    "loss, accuracy = model.evaluate(X_train, years_train, verbose=False)\n",
    "print(\"Training Accuracy: {:.4f}\".format(accuracy))\n",
    "loss, accuracy = model.evaluate(X_test, years_test, verbose=False)\n",
    "print(\"Testing Accuracy:  {:.4f}\".format(accuracy))\n",
    "plot_history(history)"
   ]
  },
  {
   "cell_type": "code",
   "execution_count": 41,
   "metadata": {},
   "outputs": [],
   "source": [
    "# Try example from this site: https://medium.com/@manoveg/multi-class-text-classification-with-probability-prediction-for-each-class-using-linearsvc-in-289189fbb100"
   ]
  },
  {
   "cell_type": "code",
   "execution_count": 16,
   "metadata": {},
   "outputs": [
    {
     "name": "stdout",
     "output_type": "stream",
     "text": [
      "[0 1 2 3 4 5]\n"
     ]
    }
   ],
   "source": [
    "from sklearn.model_selection import train_test_split\n",
    "from sklearn.feature_extraction.text import TfidfTransformer\n",
    "from sklearn.feature_extraction.text import CountVectorizer\n",
    "from sklearn.preprocessing import LabelEncoder\n",
    "\n",
    "text = lyrics\n",
    "labels = years\n",
    "\n",
    "X_train, X_test, y_train, y_test = train_test_split(text, labels, random_state=0, test_size=0.3)\n",
    "\n",
    "count_vect = CountVectorizer()\n",
    "X_train_counts = count_vect.fit_transform(X_train)\n",
    "tf_transformer = TfidfTransformer().fit(X_train_counts)\n",
    "X_train_transformed = tf_transformer.transform(X_train_counts)\n",
    "\n",
    "X_test_counts = count_vect.transform(X_test)\n",
    "X_test_transformed = tf_transformer.transform(X_test_counts)\n",
    " \n",
    "labels = LabelEncoder()\n",
    "y_train_labels_fit = labels.fit(y_train)\n",
    "y_train_lables_trf = labels.transform(y_train)\n",
    "\n",
    "print(labels.classes_)"
   ]
  },
  {
   "cell_type": "code",
   "execution_count": 17,
   "metadata": {},
   "outputs": [
    {
     "name": "stdout",
     "output_type": "stream",
     "text": [
      "Average accuracy on test set = 0.36538461538461536\n"
     ]
    }
   ],
   "source": [
    "from sklearn.svm import LinearSVC\n",
    "from sklearn.calibration import CalibratedClassifierCV\n",
    "\n",
    "linear_svc = LinearSVC(penalty='l1',dual=False)\n",
    "clf = linear_svc.fit(X_train_transformed,y_train_lables_trf)\n",
    "\n",
    "calibrated_svc = CalibratedClassifierCV(base_estimator=linear_svc, cv=\"prefit\")\n",
    "\n",
    "calibrated_svc.fit(X_train_transformed, y_train_lables_trf)\n",
    "predicted = calibrated_svc.predict(X_test_transformed)\n",
    "\n",
    "print('Average accuracy on test set = {}'.format(np.mean(predicted == labels.transform(y_test))))\n"
   ]
  },
  {
   "cell_type": "code",
   "execution_count": 18,
   "metadata": {},
   "outputs": [
    {
     "data": {
      "text/plain": [
       "(4853, 15658)"
      ]
     },
     "execution_count": 18,
     "metadata": {},
     "output_type": "execute_result"
    }
   ],
   "source": [
    "from sklearn.feature_extraction.text import TfidfVectorizer\n",
    "tfidf = TfidfVectorizer(sublinear_tf=True, min_df=5, norm='l2', encoding='latin-1', ngram_range=(1, 2), stop_words='english')\n",
    "features = tfidf.fit_transform(lyrics).toarray()\n",
    "labels = years\n",
    "features.shape\n",
    "\n"
   ]
  },
  {
   "cell_type": "code",
   "execution_count": 21,
   "metadata": {},
   "outputs": [],
   "source": [
    "model = LinearSVC(penalty='l1',dual=False)\n",
    "\n",
    "X_train, X_test, y_train, y_test = train_test_split(features, labels, test_size=0.3, random_state=0)\n",
    "\n",
    "model.fit(X_train, y_train)\n",
    "y_pred = model.predict(X_test)\n"
   ]
  },
  {
   "cell_type": "code",
   "execution_count": 22,
   "metadata": {},
   "outputs": [
    {
     "data": {
      "text/plain": [
       "array([[ 24,  49,  26,  19,   6,   1],\n",
       "       [ 27, 128,  61,  38,  12,   9],\n",
       "       [ 17,  48, 125,  57,  26,  13],\n",
       "       [  6,  42,  80, 107,  59,  10],\n",
       "       [  1,  33,  39,  43, 145,  31],\n",
       "       [  3,  23,  13,  15,  51,  69]])"
      ]
     },
     "execution_count": 22,
     "metadata": {},
     "output_type": "execute_result"
    }
   ],
   "source": [
    "from sklearn.metrics import confusion_matrix\n",
    "\n",
    "conf_mat = confusion_matrix(y_test, y_pred)\n",
    "conf_mat"
   ]
  },
  {
   "cell_type": "code",
   "execution_count": 23,
   "metadata": {},
   "outputs": [
    {
     "data": {
      "text/plain": [
       "array([[ 24,  49,  26,  19,   6,   1],\n",
       "       [ 27, 128,  61,  38,  12,   9],\n",
       "       [ 17,  48, 125,  57,  26,  13],\n",
       "       [  6,  42,  80, 107,  59,  10],\n",
       "       [  1,  33,  39,  43, 145,  31],\n",
       "       [  3,  23,  13,  15,  51,  69]])"
      ]
     },
     "execution_count": 23,
     "metadata": {},
     "output_type": "execute_result"
    }
   ],
   "source": [
    "conf_mat"
   ]
  },
  {
   "cell_type": "code",
   "execution_count": null,
   "metadata": {},
   "outputs": [],
   "source": []
  },
  {
   "cell_type": "code",
   "execution_count": null,
   "metadata": {},
   "outputs": [],
   "source": [
    "# play around w/ modifying baseline model "
   ]
  },
  {
   "cell_type": "code",
   "execution_count": 30,
   "metadata": {},
   "outputs": [],
   "source": [
    "vectorizer = CountVectorizer()\n",
    "vectorizer.fit(lyrics_train)\n",
    "\n",
    "X_train = vectorizer.transform(lyrics_train)\n",
    "X_test = vectorizer.transform(lyrics_test)"
   ]
  },
  {
   "cell_type": "code",
   "execution_count": 31,
   "metadata": {},
   "outputs": [],
   "source": [
    "# number of classes is 6 if grouping by decade, 11 if grouping by 5 years\n",
    "n_classes = 6\n",
    "\n",
    "years_train = tf.keras.utils.to_categorical(y_train,num_classes=n_classes)\n",
    "years_test = tf.keras.utils.to_categorical(y_test,num_classes=n_classes)"
   ]
  },
  {
   "cell_type": "code",
   "execution_count": 32,
   "metadata": {},
   "outputs": [
    {
     "data": {
      "text/plain": [
       "<3397x33731 sparse matrix of type '<class 'numpy.int64'>'\n",
       "\twith 378699 stored elements in Compressed Sparse Row format>"
      ]
     },
     "execution_count": 32,
     "metadata": {},
     "output_type": "execute_result"
    }
   ],
   "source": [
    "X_train"
   ]
  },
  {
   "cell_type": "code",
   "execution_count": 69,
   "metadata": {},
   "outputs": [],
   "source": [
    "tokenizer = Tokenizer(num_words=5000)\n",
    "tokenizer.fit_on_texts(lyrics_train) \n",
    "\n",
    "X_train = tokenizer.texts_to_sequences(lyrics_train)\n",
    "X_test = tokenizer.texts_to_sequences(lyrics_test)\n",
    "\n",
    "vocab_size = len(tokenizer.word_index) + 1"
   ]
  },
  {
   "cell_type": "code",
   "execution_count": 70,
   "metadata": {},
   "outputs": [],
   "source": [
    "maxlen = 1500\n",
    "\n",
    "X_train = pad_sequences(X_train, padding='post', maxlen=maxlen)\n",
    "X_test = pad_sequences(X_test, padding='post', maxlen=maxlen)"
   ]
  },
  {
   "cell_type": "code",
   "execution_count": 102,
   "metadata": {},
   "outputs": [],
   "source": [
    "input_dim = X_train.shape[1]\n",
    "\n",
    "from tensorflow.keras import regularizers\n",
    "from tensorflow.keras.layers import LSTM, Dense, TimeDistributed, Bidirectional, Dropout\n",
    "\n",
    "model = Sequential()\n",
    "model.add(Bidirectional(LSTM(10)))\n",
    "# model.add(Dropout(0.5))\n",
    "# model.add(layers.Dense(10, input_dim=input_dim, \n",
    "#                        bias_regularizer=regularizers.l1(0.01),\n",
    "#                        kernel_regularizer=regularizers.l2(0.01),\n",
    "#                        activation='relu'))\n",
    "# model.add(Dropout(0.5))\n",
    "\n",
    "model.add(layers.Dense(n_classes,activation='softmax'))\n",
    "\n",
    "\n",
    "# TRY THIS: https://www.kaggle.com/abhisheksinha28/bidirectional-lstm/data"
   ]
  },
  {
   "cell_type": "code",
   "execution_count": 103,
   "metadata": {},
   "outputs": [],
   "source": [
    "model.compile(loss='categorical_crossentropy',\n",
    "              optimizer='adam',\n",
    "              metrics=['accuracy'])\n"
   ]
  },
  {
   "cell_type": "code",
   "execution_count": 104,
   "metadata": {
    "scrolled": false
   },
   "outputs": [
    {
     "name": "stdout",
     "output_type": "stream",
     "text": [
      "Train on 3397 samples, validate on 1456 samples\n",
      "Epoch 1/100\n",
      "3397/3397 [==============================] - 3s 919us/step - loss: 3.6114 - acc: 0.1752 - val_loss: 14.1474 - val_acc: 0.1202\n",
      "Epoch 2/100\n",
      "3397/3397 [==============================] - 1s 359us/step - loss: 3.1251 - acc: 0.1852 - val_loss: 14.1299 - val_acc: 0.1223\n",
      "Epoch 3/100\n",
      "3397/3397 [==============================] - 1s 357us/step - loss: 3.0523 - acc: 0.1969 - val_loss: 14.0927 - val_acc: 0.1202\n",
      "Epoch 4/100\n",
      "3397/3397 [==============================] - 1s 356us/step - loss: 3.0282 - acc: 0.1805 - val_loss: 13.4481 - val_acc: 0.1202\n",
      "Epoch 5/100\n",
      "3397/3397 [==============================] - 1s 360us/step - loss: 3.0427 - acc: 0.1911 - val_loss: 9.9505 - val_acc: 0.1195\n",
      "Epoch 6/100\n",
      "3397/3397 [==============================] - 1s 365us/step - loss: 2.9474 - acc: 0.1987 - val_loss: 5.1039 - val_acc: 0.1188\n",
      "Epoch 7/100\n",
      "3397/3397 [==============================] - 1s 365us/step - loss: 2.0739 - acc: 0.1987 - val_loss: 1.9654 - val_acc: 0.2019\n",
      "Epoch 8/100\n",
      "3397/3397 [==============================] - 1s 363us/step - loss: 2.9350 - acc: 0.2028 - val_loss: 12.2196 - val_acc: 0.1985\n",
      "Epoch 9/100\n",
      "3397/3397 [==============================] - 1s 367us/step - loss: 2.8367 - acc: 0.2016 - val_loss: 12.0747 - val_acc: 0.1985\n",
      "Epoch 10/100\n",
      "3397/3397 [==============================] - 1s 368us/step - loss: 2.2637 - acc: 0.2016 - val_loss: 1.7895 - val_acc: 0.1992\n",
      "Epoch 11/100\n",
      "2320/3397 [===================>..........] - ETA: 0s - loss: 1.7740 - acc: 0.1944"
     ]
    },
    {
     "ename": "KeyboardInterrupt",
     "evalue": "",
     "output_type": "error",
     "traceback": [
      "\u001b[0;31m---------------------------------------------------------------------------\u001b[0m",
      "\u001b[0;31mKeyboardInterrupt\u001b[0m                         Traceback (most recent call last)",
      "\u001b[0;32m<ipython-input-104-48e283c6e341>\u001b[0m in \u001b[0;36m<module>\u001b[0;34m\u001b[0m\n\u001b[1;32m      3\u001b[0m                     \u001b[0mverbose\u001b[0m\u001b[0;34m=\u001b[0m\u001b[0;32mTrue\u001b[0m\u001b[0;34m,\u001b[0m\u001b[0;34m\u001b[0m\u001b[0m\n\u001b[1;32m      4\u001b[0m                     \u001b[0mvalidation_data\u001b[0m\u001b[0;34m=\u001b[0m\u001b[0;34m(\u001b[0m\u001b[0mX_test\u001b[0m\u001b[0;34m,\u001b[0m \u001b[0myears_test\u001b[0m\u001b[0;34m)\u001b[0m\u001b[0;34m,\u001b[0m\u001b[0;34m\u001b[0m\u001b[0m\n\u001b[0;32m----> 5\u001b[0;31m                     batch_size=10) \n\u001b[0m",
      "\u001b[0;32m~/anaconda3/lib/python3.6/site-packages/tensorflow/python/keras/engine/training.py\u001b[0m in \u001b[0;36mfit\u001b[0;34m(self, x, y, batch_size, epochs, verbose, callbacks, validation_split, validation_data, shuffle, class_weight, sample_weight, initial_epoch, steps_per_epoch, validation_steps, **kwargs)\u001b[0m\n\u001b[1;32m   1603\u001b[0m           \u001b[0minitial_epoch\u001b[0m\u001b[0;34m=\u001b[0m\u001b[0minitial_epoch\u001b[0m\u001b[0;34m,\u001b[0m\u001b[0;34m\u001b[0m\u001b[0m\n\u001b[1;32m   1604\u001b[0m           \u001b[0msteps_per_epoch\u001b[0m\u001b[0;34m=\u001b[0m\u001b[0msteps_per_epoch\u001b[0m\u001b[0;34m,\u001b[0m\u001b[0;34m\u001b[0m\u001b[0m\n\u001b[0;32m-> 1605\u001b[0;31m           validation_steps=validation_steps)\n\u001b[0m\u001b[1;32m   1606\u001b[0m \u001b[0;34m\u001b[0m\u001b[0m\n\u001b[1;32m   1607\u001b[0m   def evaluate(self,\n",
      "\u001b[0;32m~/anaconda3/lib/python3.6/site-packages/tensorflow/python/keras/engine/training_arrays.py\u001b[0m in \u001b[0;36mfit_loop\u001b[0;34m(model, inputs, targets, sample_weights, batch_size, epochs, verbose, callbacks, val_inputs, val_targets, val_sample_weights, shuffle, initial_epoch, steps_per_epoch, validation_steps)\u001b[0m\n\u001b[1;32m    212\u001b[0m           \u001b[0mins_batch\u001b[0m\u001b[0;34m[\u001b[0m\u001b[0mi\u001b[0m\u001b[0;34m]\u001b[0m \u001b[0;34m=\u001b[0m \u001b[0mins_batch\u001b[0m\u001b[0;34m[\u001b[0m\u001b[0mi\u001b[0m\u001b[0;34m]\u001b[0m\u001b[0;34m.\u001b[0m\u001b[0mtoarray\u001b[0m\u001b[0;34m(\u001b[0m\u001b[0;34m)\u001b[0m\u001b[0;34m\u001b[0m\u001b[0m\n\u001b[1;32m    213\u001b[0m \u001b[0;34m\u001b[0m\u001b[0m\n\u001b[0;32m--> 214\u001b[0;31m         \u001b[0mouts\u001b[0m \u001b[0;34m=\u001b[0m \u001b[0mf\u001b[0m\u001b[0;34m(\u001b[0m\u001b[0mins_batch\u001b[0m\u001b[0;34m)\u001b[0m\u001b[0;34m\u001b[0m\u001b[0m\n\u001b[0m\u001b[1;32m    215\u001b[0m         \u001b[0;32mif\u001b[0m \u001b[0;32mnot\u001b[0m \u001b[0misinstance\u001b[0m\u001b[0;34m(\u001b[0m\u001b[0mouts\u001b[0m\u001b[0;34m,\u001b[0m \u001b[0mlist\u001b[0m\u001b[0;34m)\u001b[0m\u001b[0;34m:\u001b[0m\u001b[0;34m\u001b[0m\u001b[0m\n\u001b[1;32m    216\u001b[0m           \u001b[0mouts\u001b[0m \u001b[0;34m=\u001b[0m \u001b[0;34m[\u001b[0m\u001b[0mouts\u001b[0m\u001b[0;34m]\u001b[0m\u001b[0;34m\u001b[0m\u001b[0m\n",
      "\u001b[0;32m~/anaconda3/lib/python3.6/site-packages/tensorflow/python/keras/backend.py\u001b[0m in \u001b[0;36m__call__\u001b[0;34m(self, inputs)\u001b[0m\n\u001b[1;32m   2976\u001b[0m \u001b[0;34m\u001b[0m\u001b[0m\n\u001b[1;32m   2977\u001b[0m     fetched = self._callable_fn(*array_vals,\n\u001b[0;32m-> 2978\u001b[0;31m                                 run_metadata=self.run_metadata)\n\u001b[0m\u001b[1;32m   2979\u001b[0m     \u001b[0mself\u001b[0m\u001b[0;34m.\u001b[0m\u001b[0m_call_fetch_callbacks\u001b[0m\u001b[0;34m(\u001b[0m\u001b[0mfetched\u001b[0m\u001b[0;34m[\u001b[0m\u001b[0;34m-\u001b[0m\u001b[0mlen\u001b[0m\u001b[0;34m(\u001b[0m\u001b[0mself\u001b[0m\u001b[0;34m.\u001b[0m\u001b[0m_fetches\u001b[0m\u001b[0;34m)\u001b[0m\u001b[0;34m:\u001b[0m\u001b[0;34m]\u001b[0m\u001b[0;34m)\u001b[0m\u001b[0;34m\u001b[0m\u001b[0m\n\u001b[1;32m   2980\u001b[0m     \u001b[0;32mreturn\u001b[0m \u001b[0mfetched\u001b[0m\u001b[0;34m[\u001b[0m\u001b[0;34m:\u001b[0m\u001b[0mlen\u001b[0m\u001b[0;34m(\u001b[0m\u001b[0mself\u001b[0m\u001b[0;34m.\u001b[0m\u001b[0moutputs\u001b[0m\u001b[0;34m)\u001b[0m\u001b[0;34m]\u001b[0m\u001b[0;34m\u001b[0m\u001b[0m\n",
      "\u001b[0;32m~/anaconda3/lib/python3.6/site-packages/tensorflow/python/client/session.py\u001b[0m in \u001b[0;36m__call__\u001b[0;34m(self, *args, **kwargs)\u001b[0m\n\u001b[1;32m   1397\u001b[0m           ret = tf_session.TF_SessionRunCallable(\n\u001b[1;32m   1398\u001b[0m               \u001b[0mself\u001b[0m\u001b[0;34m.\u001b[0m\u001b[0m_session\u001b[0m\u001b[0;34m.\u001b[0m\u001b[0m_session\u001b[0m\u001b[0;34m,\u001b[0m \u001b[0mself\u001b[0m\u001b[0;34m.\u001b[0m\u001b[0m_handle\u001b[0m\u001b[0;34m,\u001b[0m \u001b[0margs\u001b[0m\u001b[0;34m,\u001b[0m \u001b[0mstatus\u001b[0m\u001b[0;34m,\u001b[0m\u001b[0;34m\u001b[0m\u001b[0m\n\u001b[0;32m-> 1399\u001b[0;31m               run_metadata_ptr)\n\u001b[0m\u001b[1;32m   1400\u001b[0m         \u001b[0;32mif\u001b[0m \u001b[0mrun_metadata\u001b[0m\u001b[0;34m:\u001b[0m\u001b[0;34m\u001b[0m\u001b[0m\n\u001b[1;32m   1401\u001b[0m           \u001b[0mproto_data\u001b[0m \u001b[0;34m=\u001b[0m \u001b[0mtf_session\u001b[0m\u001b[0;34m.\u001b[0m\u001b[0mTF_GetBuffer\u001b[0m\u001b[0;34m(\u001b[0m\u001b[0mrun_metadata_ptr\u001b[0m\u001b[0;34m)\u001b[0m\u001b[0;34m\u001b[0m\u001b[0m\n",
      "\u001b[0;31mKeyboardInterrupt\u001b[0m: "
     ]
    }
   ],
   "source": [
    "history = model.fit(X_train, years_train, \n",
    "                    epochs=100,\n",
    "                    verbose=True,\n",
    "                    validation_data=(X_test, years_test),\n",
    "                    batch_size=10) "
   ]
  },
  {
   "cell_type": "code",
   "execution_count": null,
   "metadata": {},
   "outputs": [],
   "source": [
    "loss, accuracy = model.evaluate(X_train, years_train, verbose=False)\n",
    "print(\"Training Accuracy: {:.4f}\".format(accuracy)) # Prev 0.9941\n",
    "loss, accuracy = model.evaluate(X_test, years_test, verbose=False)\n",
    "print(\"Testing Accuracy:  {:.4f}\".format(accuracy)) # prev 0.3777"
   ]
  },
  {
   "cell_type": "code",
   "execution_count": null,
   "metadata": {},
   "outputs": [],
   "source": [
    "years_pred = model.predict(X_test)\n",
    "\n",
    "conf_mat = confusion_matrix(years_test, years_pred)\n",
    "conf_mat"
   ]
  },
  {
   "cell_type": "code",
   "execution_count": null,
   "metadata": {},
   "outputs": [],
   "source": []
  }
 ],
 "metadata": {
  "kernelspec": {
   "display_name": "Python 3",
   "language": "python",
   "name": "python3"
  },
  "language_info": {
   "codemirror_mode": {
    "name": "ipython",
    "version": 3
   },
   "file_extension": ".py",
   "mimetype": "text/x-python",
   "name": "python",
   "nbconvert_exporter": "python",
   "pygments_lexer": "ipython3",
   "version": "3.7.0"
  }
 },
 "nbformat": 4,
 "nbformat_minor": 2
}
